{
 "cells": [
  {
   "cell_type": "code",
   "execution_count": 1,
   "metadata": {},
   "outputs": [
    {
     "name": "stderr",
     "output_type": "stream",
     "text": [
      "/home/vscode/.local/lib/python3.10/site-packages/tqdm/auto.py:21: TqdmWarning: IProgress not found. Please update jupyter and ipywidgets. See https://ipywidgets.readthedocs.io/en/stable/user_install.html\n",
      "  from .autonotebook import tqdm as notebook_tqdm\n"
     ]
    },
    {
     "name": "stdout",
     "output_type": "stream",
     "text": [
      "**學習演算法的步驟：**\n",
      "\n",
      "**1. 建立基礎：**\n",
      "\n",
      "* 學習程式設計語言（例如 Python、Java 或 C++）\n",
      "* 了解資料結構（例如陣列、鏈結串列、堆疊和佇列）\n",
      "\n",
      "**2. 探索基本演算法：**\n",
      "\n",
      "* 搜尋（線性搜尋、二元搜尋）\n",
      "* 排序（插入排序、選擇排序、快速排序、合併排序）\n",
      "* 遞迴和動態規劃\n",
      "\n",
      "**3. 進階技術：**\n",
      "\n",
      "* 圖形演算法（深度優先搜尋、廣度優先搜尋）\n",
      "* 貪婪演算法\n",
      "* 動態規劃\n",
      "\n",
      "**4. 實務應用：**\n",
      "\n",
      "* 在真實世界問題中實作演算法\n",
      "* 了解演算法的效能和複雜度\n",
      "\n",
      "**資源：**\n",
      "\n",
      "**在線課程：**\n",
      "\n",
      "* Coursera：演算法 1 與 2\n",
      "* edX：演算法\n",
      "\n",
      "**書籍：**\n",
      "\n",
      "* 《演算法導論》（Thomas H. Cormen、Charles E. Leiserson、Ronald L. Rivest、Clifford Stein）\n",
      "* 《演算法》（Robert Sedgewick、Kevin Wayne）\n",
      "\n",
      "**網站：**\n",
      "\n",
      "* LeetCode：編程題庫網站，提供演算法練習問題\n",
      "* GeeksforGeeks：技術和程式設計資源網站，涵蓋演算法主題\n",
      "\n",
      "**其他提示：**\n",
      "\n",
      "* 持之以恆地練習，並透過解決演算法問題來培養你的技能。\n",
      "* 加入線上討論區和社群，以與其他學習者互動並獲得幫助。\n",
      "* 參加演算法競賽，例如 Codeforces 或 HackerRank。\n",
      "* 在日常活動中尋找演算法應用的機會，例如規劃行程或組織資料。\n"
     ]
    }
   ],
   "source": [
    "import google.generativeai as genai\n",
    "from dotenv import load_dotenv\n",
    "import os\n",
    "load_dotenv()\n",
    "\n",
    "genai.configure(api_key=os.environ['Gemini_API_KEY'])\n",
    "model = genai.GenerativeModel('gemini-pro')\n",
    "response = model.generate_content('我想要學習`演算法`')\n",
    "print(response.text)"
   ]
  }
 ],
 "metadata": {
  "kernelspec": {
   "display_name": "Python 3",
   "language": "python",
   "name": "python3"
  },
  "language_info": {
   "codemirror_mode": {
    "name": "ipython",
    "version": 3
   },
   "file_extension": ".py",
   "mimetype": "text/x-python",
   "name": "python",
   "nbconvert_exporter": "python",
   "pygments_lexer": "ipython3",
   "version": "3.10.14"
  }
 },
 "nbformat": 4,
 "nbformat_minor": 2
}
