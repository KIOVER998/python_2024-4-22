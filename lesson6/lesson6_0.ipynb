{
 "cells": [
  {
   "cell_type": "code",
   "execution_count": 1,
   "metadata": {},
   "outputs": [
    {
     "name": "stdout",
     "output_type": "stream",
     "text": [
      "123,您的BMI:18.52\n"
     ]
    }
   ],
   "source": [
    "try:\n",
    "    name = input(\"請輸入姓名\")\n",
    "    height = eval(input(\"請輸入身高(cm)\"))\n",
    "    weight = eval(input(\"請輸入體重(kg)\"))\n",
    "\n",
    "    print(f\"{name},您的BMI:{weight / (height / 100) ** 2:.2f}\")\n",
    "\n",
    "except Exception as e:\n",
    "    print(f\"格式錯誤:{e}\")"
   ]
  },
  {
   "cell_type": "code",
   "execution_count": 2,
   "metadata": {},
   "outputs": [
    {
     "name": "stdout",
     "output_type": "stream",
     "text": [
      "格式錯誤:invalid syntax (<string>, line 1)\n"
     ]
    }
   ],
   "source": [
    "try:\n",
    "    name = input(\"請輸入姓名\")\n",
    "    height = eval(input(\"請輸入身高(cm)\"))\n",
    "    weight = eval(input(\"請輸入體重(kg)\"))\n",
    "\n",
    "    print(f\"{name},您的BMI:{weight / (height / 100) ** 2:.2f}\")\n",
    "except Exception as e:\n",
    "    print(f\"格式錯誤:{e}\")"
   ]
  }
 ],
 "metadata": {
  "kernelspec": {
   "display_name": "Python 3",
   "language": "python",
   "name": "python3"
  },
  "language_info": {
   "codemirror_mode": {
    "name": "ipython",
    "version": 3
   },
   "file_extension": ".py",
   "mimetype": "text/x-python",
   "name": "python",
   "nbconvert_exporter": "python",
   "pygments_lexer": "ipython3",
   "version": "3.10.14"
  }
 },
 "nbformat": 4,
 "nbformat_minor": 2
}
