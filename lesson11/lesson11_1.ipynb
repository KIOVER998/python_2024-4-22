{
 "cells": [
  {
   "cell_type": "code",
   "execution_count": null,
   "metadata": {},
   "outputs": [],
   "source": [
    "import json\n",
    "with open (\"aqx_p_488.json\",encoding=\"utf-8\") as file:\n",
    "    data:dict = json.loads(file.read())\n",
    "    data_list:list[data] = data[\"recodes\"]\n",
    "\n",
    "for silte in data_list:\n",
    "    print(silte[\"sitename\"],site[\"county\"],site[\"aqi\"],site[\"status\"])"
   ]
  }
 ],
 "metadata": {
  "kernelspec": {
   "display_name": "Python 3",
   "language": "python",
   "name": "python3"
  },
  "language_info": {
   "name": "python",
   "version": "3.10.14"
  }
 },
 "nbformat": 4,
 "nbformat_minor": 2
}
