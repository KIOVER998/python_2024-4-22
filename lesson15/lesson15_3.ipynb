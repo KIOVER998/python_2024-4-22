{
 "cells": [
  {
   "cell_type": "code",
   "execution_count": 1,
   "metadata": {},
   "outputs": [
    {
     "name": "stdout",
     "output_type": "stream",
     "text": [
      "144\n",
      "===============\n",
      "170\n",
      "===============\n",
      "164\n",
      "===============\n",
      "167\n",
      "===============\n",
      "177\n",
      "===============\n"
     ]
    }
   ],
   "source": [
    "student1 = [69, 78, 72, 91, 85]\n",
    "student2 = [75, 92, 92, 76, 92]\n",
    "\n",
    "for i in range(len(student1)):\n",
    "    scores = student1[i] + student2[i]\n",
    "    print(scores)\n",
    "    print(\"===============\")"
   ]
  },
  {
   "cell_type": "code",
   "execution_count": 2,
   "metadata": {},
   "outputs": [
    {
     "data": {
      "text/plain": [
       "[69, 78, 72, 91, 85, 75, 92, 92, 76, 92]"
      ]
     },
     "execution_count": 2,
     "metadata": {},
     "output_type": "execute_result"
    }
   ],
   "source": [
    "student1 = [69, 78, 72, 91, 85]\n",
    "student2 = [75, 92, 92, 76, 92]\n",
    "\n",
    "student1 + student2"
   ]
  },
  {
   "cell_type": "code",
   "execution_count": 4,
   "metadata": {},
   "outputs": [
    {
     "name": "stdout",
     "output_type": "stream",
     "text": [
      "144\n",
      "=========\n",
      "170\n",
      "=========\n",
      "164\n",
      "=========\n",
      "167\n",
      "=========\n",
      "177\n",
      "=========\n"
     ]
    }
   ],
   "source": [
    "import numpy as np\n",
    "from numpy import ndarray\n",
    "student1:ndarray = np.array([69, 78, 72, 91, 85])\n",
    "student2:ndarray = np.array([75, 92, 92, 76, 92])\n",
    "\n",
    "#可以做陣列運算,不需使用for...in\n",
    "totols:ndarray= student1 + student2\n",
    "for total in totols:\n",
    "    print(total)\n",
    "    print(\"=========\")"
   ]
  },
  {
   "cell_type": "code",
   "execution_count": 5,
   "metadata": {},
   "outputs": [
    {
     "name": "stdout",
     "output_type": "stream",
     "text": [
      "[[1 2 3]\n",
      " [4 5 6]]\n",
      "2\n",
      "(2, 3)\n",
      "6\n",
      "int64\n"
     ]
    }
   ],
   "source": [
    "array:ndarray = np.array([[1,2,3],[4,5,6]])\n",
    "print(array)\n",
    "#property\n",
    "#ndim,shape,size,dtype\n",
    "\n",
    "print(array.ndim)\n",
    "print(array.shape)\n",
    "print(array.size)\n",
    "print(array.dtype)\n"
   ]
  },
  {
   "cell_type": "code",
   "execution_count": 6,
   "metadata": {},
   "outputs": [
    {
     "data": {
      "text/plain": [
       "array([[ 74,  68,  65,  98,  67],\n",
       "       [ 99,  75,  59,  58,  91],\n",
       "       [ 66,  65,  88,  77,  82],\n",
       "       [ 85,  89,  86,  66,  90],\n",
       "       [ 69,  91,  74,  96,  95],\n",
       "       [ 63,  60,  92,  82,  66],\n",
       "       [ 56,  87,  50,  96,  97],\n",
       "       [ 74,  87,  59,  77,  89],\n",
       "       [ 97,  82,  66,  68,  81],\n",
       "       [ 66,  94,  80, 100,  85],\n",
       "       [ 88,  53,  70,  96,  55],\n",
       "       [ 90,  59,  82,  69,  75],\n",
       "       [ 72,  84,  78,  87,  63],\n",
       "       [ 94,  82,  51,  95,  81],\n",
       "       [ 92,  74,  84,  68,  53],\n",
       "       [ 61,  89,  84,  80,  82],\n",
       "       [100,  78,  72,  89,  63],\n",
       "       [ 73,  84,  64,  76,  75],\n",
       "       [ 77,  53,  81,  84,  93],\n",
       "       [ 89,  76,  50,  99,  80],\n",
       "       [ 60,  73,  61,  82,  63],\n",
       "       [ 61,  66,  69,  52,  81],\n",
       "       [ 90,  51, 100,  65,  50],\n",
       "       [ 93,  57,  58,  96,  85],\n",
       "       [ 92,  61,  94,  59,  93],\n",
       "       [ 56,  70,  77,  53,  70],\n",
       "       [ 63,  51,  98,  68,  52],\n",
       "       [ 98,  81,  54,  80,  76],\n",
       "       [ 72, 100,  73,  74,  51],\n",
       "       [ 92,  62,  94,  91,  57],\n",
       "       [ 91,  72,  59,  58,  99],\n",
       "       [ 53,  95,  92,  67,  58],\n",
       "       [ 78,  62,  96,  96,  68],\n",
       "       [ 81,  97,  95,  50,  51],\n",
       "       [ 68,  63,  65,  60,  66],\n",
       "       [ 57,  51,  95,  98,  84],\n",
       "       [ 89,  53,  58,  69,  51],\n",
       "       [ 73,  73,  93,  87,  71],\n",
       "       [ 75,  97,  85,  70,  81],\n",
       "       [ 60,  77,  75,  64,  96],\n",
       "       [ 84,  89,  57,  76,  65],\n",
       "       [ 67,  76,  57,  95,  99],\n",
       "       [ 64,  86,  80,  80,  89],\n",
       "       [ 75,  83,  70,  90,  89],\n",
       "       [ 73,  80,  61,  88,  81],\n",
       "       [ 79,  89,  79,  51,  93],\n",
       "       [ 67,  61,  97,  59,  96],\n",
       "       [ 95,  57,  62,  85, 100],\n",
       "       [ 56,  60,  56,  53,  53],\n",
       "       [ 82,  83,  66,  66,  67]])"
      ]
     },
     "execution_count": 6,
     "metadata": {},
     "output_type": "execute_result"
    }
   ],
   "source": [
    "np.random.randint(50,101,size=(50, 5))"
   ]
  }
 ],
 "metadata": {
  "kernelspec": {
   "display_name": "Python 3",
   "language": "python",
   "name": "python3"
  },
  "language_info": {
   "codemirror_mode": {
    "name": "ipython",
    "version": 3
   },
   "file_extension": ".py",
   "mimetype": "text/x-python",
   "name": "python",
   "nbconvert_exporter": "python",
   "pygments_lexer": "ipython3",
   "version": "3.10.14"
  }
 },
 "nbformat": 4,
 "nbformat_minor": 2
}
