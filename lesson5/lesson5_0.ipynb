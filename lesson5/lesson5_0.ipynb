{
 "cells": [
  {
   "cell_type": "code",
   "execution_count": 1,
   "metadata": {},
   "outputs": [
    {
     "name": "stdout",
     "output_type": "stream",
     "text": [
      "梯形的上底10公分，下底20公分，高5公分\n",
      "梯形的面積:75.0平方公分\n"
     ]
    }
   ],
   "source": [
    "n1 = eval(input(\"請輸入梯形上底(公分):\"))\n",
    "n2 = eval(input(\"請輸入梯形下底(公分):\"))\n",
    "n3 = eval(input(\"請輸入梯形高(公分):\"))\n",
    "area = (n1 + n2) * n3 / 2\n",
    "print(f'梯形的上底{n1}公分，下底{n2}公分，高{n3}公分')\n",
    "print(f'梯形的面積:{area}平方公分')"
   ]
  }
 ],
 "metadata": {
  "kernelspec": {
   "display_name": "Python 3",
   "language": "python",
   "name": "python3"
  },
  "language_info": {
   "codemirror_mode": {
    "name": "ipython",
    "version": 3
   },
   "file_extension": ".py",
   "mimetype": "text/x-python",
   "name": "python",
   "nbconvert_exporter": "python",
   "pygments_lexer": "ipython3",
   "version": "3.10.14"
  }
 },
 "nbformat": 4,
 "nbformat_minor": 2
}
